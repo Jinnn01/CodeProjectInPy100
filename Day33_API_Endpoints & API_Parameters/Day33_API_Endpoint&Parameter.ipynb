{
 "cells": [
  {
   "cell_type": "code",
   "execution_count": 1,
   "id": "20b2a598",
   "metadata": {},
   "outputs": [],
   "source": [
    "from IPython.core.interactiveshell import InteractiveShell\n",
    "InteractiveShell.ast_node_interactivity = \"all\""
   ]
  },
  {
   "cell_type": "markdown",
   "id": "c2d9b4cd",
   "metadata": {},
   "source": [
    "# API: Application Programming Interface\n",
    "- what is [API](https://en.wikipedia.org/wiki/API)"
   ]
  },
  {
   "cell_type": "markdown",
   "id": "d8a43b61",
   "metadata": {},
   "source": [
    "### import request and get response"
   ]
  },
  {
   "cell_type": "code",
   "execution_count": 4,
   "id": "f2e306ae",
   "metadata": {},
   "outputs": [
    {
     "name": "stdout",
     "output_type": "stream",
     "text": [
      "<Response [200]>\n"
     ]
    }
   ],
   "source": [
    "import requests\n",
    "response = requests.get(url=\"http://api.open-notify.org/iss-now.json\")\n",
    "print(response)"
   ]
  },
  {
   "cell_type": "markdown",
   "id": "11e9e72e",
   "metadata": {},
   "source": [
    "###  raise error if the code failure"
   ]
  },
  {
   "cell_type": "code",
   "execution_count": 5,
   "id": "d629d571",
   "metadata": {},
   "outputs": [
    {
     "ename": "NameError",
     "evalue": "name 'response' is not defined",
     "output_type": "error",
     "traceback": [
      "\u001b[0;31m---------------------------------------------------------------------------\u001b[0m",
      "\u001b[0;31mNameError\u001b[0m                                 Traceback (most recent call last)",
      "Input \u001b[0;32mIn [5]\u001b[0m, in \u001b[0;36m<module>\u001b[0;34m\u001b[0m\n\u001b[0;32m----> 1\u001b[0m \u001b[43mresponse\u001b[49m\u001b[38;5;241m.\u001b[39mraise_for_status()\n",
      "\u001b[0;31mNameError\u001b[0m: name 'response' is not defined"
     ]
    }
   ],
   "source": [
    "response.raise_for_status()"
   ]
  },
  {
   "cell_type": "markdown",
   "id": "bbb5c416",
   "metadata": {},
   "source": [
    "### get json from resquest"
   ]
  },
  {
   "cell_type": "code",
   "execution_count": null,
   "id": "438c0319",
   "metadata": {},
   "outputs": [],
   "source": [
    "data = response.json()"
   ]
  },
  {
   "cell_type": "markdown",
   "id": "26639d57",
   "metadata": {},
   "source": [
    "## example code"
   ]
  },
  {
   "cell_type": "code",
   "execution_count": 9,
   "id": "88e8567e",
   "metadata": {},
   "outputs": [
    {
     "name": "stdout",
     "output_type": "stream",
     "text": [
      "<Response [200]>\n",
      "('99.9165', '17.1545')\n"
     ]
    }
   ],
   "source": [
    "import requests\n",
    "response = requests.get(url=\"http://api.open-notify.org/iss-now.json\")\n",
    "print(response)\n",
    "response.raise_for_status()\n",
    "data = response.json()[\"iss_position\"]\n",
    "\n",
    "longitude = data[\"longitude\"]\n",
    "latitude = data[\"latitude\"]\n",
    "iss_position = (longitude,latitude)\n",
    "print(iss_position)"
   ]
  },
  {
   "cell_type": "code",
   "execution_count": null,
   "id": "b1f5e27c",
   "metadata": {},
   "outputs": [],
   "source": []
  }
 ],
 "metadata": {
  "kernelspec": {
   "display_name": "Python 3 (ipykernel)",
   "language": "python",
   "name": "python3"
  },
  "language_info": {
   "codemirror_mode": {
    "name": "ipython",
    "version": 3
   },
   "file_extension": ".py",
   "mimetype": "text/x-python",
   "name": "python",
   "nbconvert_exporter": "python",
   "pygments_lexer": "ipython3",
   "version": "3.8.12"
  }
 },
 "nbformat": 4,
 "nbformat_minor": 5
}
